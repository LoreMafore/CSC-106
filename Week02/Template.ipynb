{
 "cells": [
  {
   "cell_type": "code",
   "execution_count": 1,
   "id": "acd63ddf-bca0-45cf-8c77-dd3e8da20ce6",
   "metadata": {},
   "outputs": [
    {
     "data": {
      "text/plain": [
       "'\\nConrad Mercer \\nCSC106\\nHWk N\\nQ N\\nDate\\n'"
      ]
     },
     "execution_count": 1,
     "metadata": {},
     "output_type": "execute_result"
    }
   ],
   "source": [
    "'''\n",
    "Conrad Mercer \n",
    "CSC106\n",
    "HWk N\n",
    "Q N\n",
    "Date\n",
    "'''"
   ]
  },
  {
   "cell_type": "code",
   "execution_count": 2,
   "id": "b29d3dcf-15e8-47a0-945d-ae48bc9c8d29",
   "metadata": {},
   "outputs": [],
   "source": [
    "#Conrad Mercer"
   ]
  },
  {
   "cell_type": "code",
   "execution_count": null,
   "id": "2561e3bf-d3d9-47c8-bdba-855e2c26b444",
   "metadata": {},
   "outputs": [],
   "source": [
    "#\\n is a new line\n",
    "#\\t is tab"
   ]
  },
  {
   "cell_type": "code",
   "execution_count": null,
   "id": "f404e315-21d8-425c-821c-b99ab10e3cd4",
   "metadata": {},
   "outputs": [],
   "source": [
    "print (\"\\t\\t\\t* \\n\\t* \\t\\t\\t\\t* \\n\\n\\n\\t\\t*\\t\\t*\")"
   ]
  }
 ],
 "metadata": {
  "kernelspec": {
   "display_name": "Python 3 (ipykernel)",
   "language": "python",
   "name": "python3"
  },
  "language_info": {
   "codemirror_mode": {
    "name": "ipython",
    "version": 3
   },
   "file_extension": ".py",
   "mimetype": "text/x-python",
   "name": "python",
   "nbconvert_exporter": "python",
   "pygments_lexer": "ipython3",
   "version": "3.10.12"
  }
 },
 "nbformat": 4,
 "nbformat_minor": 5
}
