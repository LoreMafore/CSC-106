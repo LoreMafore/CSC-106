{
 "cells": [
  {
   "cell_type": "code",
   "execution_count": 15,
   "id": "7d9c5b9d",
   "metadata": {},
   "outputs": [
    {
     "name": "stdout",
     "output_type": "stream",
     "text": [
      "What is the legth: 2\n",
      "What is the width: 2\n",
      "The area and perimeter of the square is <function main.<locals>.<lambda> at 0x7f20c320e950> , 8.0\n"
     ]
    }
   ],
   "source": [
    "def main():\n",
    "    l = float(input(\"What is the legth: \"))\n",
    "    w = float(input(\"What is the width: \"))\n",
    "\n",
    "    #square\n",
    "    if l == w:\n",
    "        a = lambda l:l*2\n",
    "        p = l*4\n",
    "        print(\"The area and perimeter of the square is\", a,\",\", p)\n",
    "    #perimeter  \n",
    "    elif l != w:\n",
    "        a = l*w\n",
    "        p = 2*l + 2*w\n",
    "        print(\"The area and perimeter of the rectangele is\", a,\",\", p)\n",
    "\n",
    "main()"
   ]
  },
  {
   "cell_type": "code",
   "execution_count": 16,
   "id": "f3f08819",
   "metadata": {},
   "outputs": [
    {
     "ename": "SyntaxError",
     "evalue": "invalid syntax (2340838321.py, line 1)",
     "output_type": "error",
     "traceback": [
      "\u001b[0;36m  File \u001b[0;32m\"/tmp/ipykernel_7625/2340838321.py\"\u001b[0;36m, line \u001b[0;32m1\u001b[0m\n\u001b[0;31m    calculate =lamdbda : a,b :\u001b[0m\n\u001b[0m                       ^\u001b[0m\n\u001b[0;31mSyntaxError\u001b[0m\u001b[0;31m:\u001b[0m invalid syntax\n"
     ]
    }
   ],
   "source": [
    "calculate =lamdbda : a,b :"
   ]
  },
  {
   "cell_type": "code",
   "execution_count": null,
   "id": "70aa6d58",
   "metadata": {},
   "outputs": [],
   "source": [
    "lambdaSqaure = lambda l,w : {\"Perimeter\"} "
   ]
  }
 ],
 "metadata": {
  "kernelspec": {
   "display_name": "Python 3 (ipykernel)",
   "language": "python",
   "name": "python3"
  },
  "language_info": {
   "codemirror_mode": {
    "name": "ipython",
    "version": 3
   },
   "file_extension": ".py",
   "mimetype": "text/x-python",
   "name": "python",
   "nbconvert_exporter": "python",
   "pygments_lexer": "ipython3",
   "version": "3.10.12"
  }
 },
 "nbformat": 4,
 "nbformat_minor": 5
}
