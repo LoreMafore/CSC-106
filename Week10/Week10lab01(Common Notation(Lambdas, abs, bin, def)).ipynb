{
 "cells": [
  {
   "cell_type": "code",
   "execution_count": 1,
   "id": "49803e80",
   "metadata": {},
   "outputs": [
    {
     "data": {
      "text/plain": [
       "11.0"
      ]
     },
     "execution_count": 1,
     "metadata": {},
     "output_type": "execute_result"
    }
   ],
   "source": [
    "abs(-11j)"
   ]
  },
  {
   "cell_type": "code",
   "execution_count": 2,
   "id": "d552423c",
   "metadata": {},
   "outputs": [
    {
     "data": {
      "text/plain": [
       "11"
      ]
     },
     "execution_count": 2,
     "metadata": {},
     "output_type": "execute_result"
    }
   ],
   "source": [
    "abs(-11)"
   ]
  },
  {
   "cell_type": "code",
   "execution_count": 4,
   "id": "5ea71808",
   "metadata": {},
   "outputs": [
    {
     "data": {
      "text/plain": [
       "'0b1010'"
      ]
     },
     "execution_count": 4,
     "metadata": {},
     "output_type": "execute_result"
    }
   ],
   "source": [
    "bin(10)"
   ]
  },
  {
   "cell_type": "code",
   "execution_count": 13,
   "id": "44b7100e",
   "metadata": {},
   "outputs": [
    {
     "data": {
      "text/plain": [
       "'0b100000000'"
      ]
     },
     "execution_count": 13,
     "metadata": {},
     "output_type": "execute_result"
    }
   ],
   "source": [
    "bin(256)"
   ]
  },
  {
   "cell_type": "code",
   "execution_count": 12,
   "id": "1c2baa85",
   "metadata": {},
   "outputs": [
    {
     "data": {
      "text/plain": [
       "256"
      ]
     },
     "execution_count": 12,
     "metadata": {},
     "output_type": "execute_result"
    }
   ],
   "source": [
    "pow(2,8)"
   ]
  },
  {
   "cell_type": "code",
   "execution_count": 14,
   "id": "62fd39ae",
   "metadata": {},
   "outputs": [
    {
     "data": {
      "text/plain": [
       "4"
      ]
     },
     "execution_count": 14,
     "metadata": {},
     "output_type": "execute_result"
    }
   ],
   "source": [
    "len(\"ahhh\")"
   ]
  },
  {
   "cell_type": "code",
   "execution_count": 18,
   "id": "502caaaf",
   "metadata": {},
   "outputs": [],
   "source": [
    "def sqr(value):\n",
    "    print(value**2)\n",
    "    \n",
    "    return 0"
   ]
  },
  {
   "cell_type": "code",
   "execution_count": 22,
   "id": "e1908eb7",
   "metadata": {},
   "outputs": [
    {
     "name": "stdout",
     "output_type": "stream",
     "text": [
      "Hello tom\n"
     ]
    }
   ],
   "source": [
    "def greet(name):\n",
    "    print(f\"Hello {name}\")\n",
    "    \n",
    "    \n",
    "    \n",
    "greet('tom')"
   ]
  },
  {
   "cell_type": "code",
   "execution_count": 26,
   "id": "d66b94e7",
   "metadata": {},
   "outputs": [
    {
     "name": "stdout",
     "output_type": "stream",
     "text": [
      "The Umary is a private university, near Bismark, ND that has 3852 students. It was established in 1959\n"
     ]
    }
   ],
   "source": [
    "def college(name,public,place,students,year):\n",
    "    print(f\"The {name} is a {public} university, near {place} that has {students} students. It was established in {year}\")\n",
    "    \n",
    "college('Umary', 'private', 'Bismark, ND', 3852, 1959)"
   ]
  },
  {
   "cell_type": "code",
   "execution_count": 29,
   "id": "7d8a55c4",
   "metadata": {},
   "outputs": [
    {
     "data": {
      "text/plain": [
       "36"
      ]
     },
     "execution_count": 29,
     "metadata": {},
     "output_type": "execute_result"
    }
   ],
   "source": [
    "def function(x):\n",
    "    return 3*x\n",
    "\n",
    "function(12)"
   ]
  },
  {
   "cell_type": "code",
   "execution_count": 82,
   "id": "aebba8b9",
   "metadata": {},
   "outputs": [
    {
     "name": "stdout",
     "output_type": "stream",
     "text": [
      "1\n"
     ]
    }
   ],
   "source": [
    "def Y(m,x,c):\n",
    "    print(m*x+c)\n",
    "    return \n",
    "    \n",
    "\n",
    "Y(1,1,0)"
   ]
  },
  {
   "cell_type": "code",
   "execution_count": null,
   "id": "53aa9a91",
   "metadata": {},
   "outputs": [],
   "source": [
    "def Y(m,x,c):\n",
    "    return(lambda x,y,z: x*y+z)\n",
    "    \n",
    "    "
   ]
  },
  {
   "cell_type": "code",
   "execution_count": 45,
   "id": "e3f30408",
   "metadata": {},
   "outputs": [
    {
     "name": "stdout",
     "output_type": "stream",
     "text": [
      "3628800\n"
     ]
    }
   ],
   "source": [
    "def factorial(x):\n",
    "    if x == 1:\n",
    "        return 1\n",
    "    else:\n",
    "        return(x* factorial(x-1))\n",
    "    \n",
    "#factorial(3)\n",
    "#largest factorial is 1558\n",
    "num =10\n",
    "print(factorial(num))"
   ]
  },
  {
   "cell_type": "code",
   "execution_count": 47,
   "id": "88c68f8f",
   "metadata": {},
   "outputs": [
    {
     "name": "stdout",
     "output_type": "stream",
     "text": [
      "15\n"
     ]
    }
   ],
   "source": [
    "#lambda\n",
    "\n",
    "x = lambda a : a + 10\n",
    "print(x(5))"
   ]
  },
  {
   "cell_type": "code",
   "execution_count": 75,
   "id": "0d40b7ac",
   "metadata": {},
   "outputs": [
    {
     "name": "stdout",
     "output_type": "stream",
     "text": [
      "10\n"
     ]
    }
   ],
   "source": [
    "def lamda(n):\n",
    "    return lambda a: a*n\n",
    "\n",
    "doubler = lamda(2)\n",
    "print(doubler(5))\n"
   ]
  },
  {
   "cell_type": "code",
   "execution_count": 77,
   "id": "a8399789",
   "metadata": {},
   "outputs": [
    {
     "name": "stdout",
     "output_type": "stream",
     "text": [
      "10\n"
     ]
    }
   ],
   "source": [
    "(lambda x,y,z: x+y+z)(3,8,1)\n"
   ]
  },
  {
   "cell_type": "code",
   "execution_count": 79,
   "id": "123f8d85",
   "metadata": {},
   "outputs": [
    {
     "name": "stdout",
     "output_type": "stream",
     "text": [
      "10\n"
     ]
    }
   ],
   "source": [
    "print((lambda x: x if(x > 10)else 10)(5))"
   ]
  },
  {
   "cell_type": "code",
   "execution_count": 81,
   "id": "7564156c",
   "metadata": {},
   "outputs": [
    {
     "data": {
      "text/plain": [
       "120"
      ]
     },
     "execution_count": 81,
     "metadata": {},
     "output_type": "execute_result"
    }
   ],
   "source": [
    "def check_conditions(x):\n",
    "    if x > 10:\n",
    "        return x*10\n",
    "    elif x < 5:\n",
    "        return x*5\n",
    "    else: return x\n",
    "\n",
    "check_conditions(12)"
   ]
  },
  {
   "cell_type": "code",
   "execution_count": null,
   "id": "17956320",
   "metadata": {},
   "outputs": [],
   "source": []
  }
 ],
 "metadata": {
  "kernelspec": {
   "display_name": "Python 3 (ipykernel)",
   "language": "python",
   "name": "python3"
  },
  "language_info": {
   "codemirror_mode": {
    "name": "ipython",
    "version": 3
   },
   "file_extension": ".py",
   "mimetype": "text/x-python",
   "name": "python",
   "nbconvert_exporter": "python",
   "pygments_lexer": "ipython3",
   "version": "3.10.12"
  }
 },
 "nbformat": 4,
 "nbformat_minor": 5
}
