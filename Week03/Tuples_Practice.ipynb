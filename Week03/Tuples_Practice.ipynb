{
 "cells": [
  {
   "cell_type": "code",
   "execution_count": 19,
   "id": "29800048-165d-4f31-9849-348344a3b91e",
   "metadata": {},
   "outputs": [
    {
     "data": {
      "text/plain": [
       "str"
      ]
     },
     "execution_count": 19,
     "metadata": {},
     "output_type": "execute_result"
    }
   ],
   "source": [
    "#Making a Tuple assinging it a name\n",
    "\n",
    "student_names = (\"Conrad\", \"Carter\", \"Ian\")\n",
    "\n",
    "#print(student_names),print(student_names[1]) this would print the names associated with student_names\n",
    "\n",
    "#type(student_names), type(student_names[2]) this would give you the type which would be tuple in this case\n",
    "\n",
    "student_names[0]\n"
   ]
  },
  {
   "cell_type": "code",
   "execution_count": 20,
   "id": "da39b953-5b34-452b-8036-24102ae3d819",
   "metadata": {},
   "outputs": [
    {
     "data": {
      "text/plain": [
       "str"
      ]
     },
     "execution_count": 20,
     "metadata": {},
     "output_type": "execute_result"
    }
   ],
   "source": [
    "#when you only have one item it will come back as the one tyoe in the parenthesis \n",
    "\n",
    "t = (\"ahhh\")\n",
    "\n",
    "type(t)"
   ]
  },
  {
   "cell_type": "code",
   "execution_count": 39,
   "id": "f5e680a0-d9ba-4cdb-9afb-819d02324069",
   "metadata": {},
   "outputs": [
    {
     "name": "stdout",
     "output_type": "stream",
     "text": [
      "('Name: Conrad', 'Class: CSC106', 'Week01 Lab 01', 1, 100, '9/18/23')\n"
     ]
    }
   ],
   "source": [
    "#Creating a tuple for our basic infirmation\n",
    "Name = \"Name: Conrad\"\n",
    "Class = \"Class: CSC106\"\n",
    "Hmwk = \"Week01 Lab 01\"\n",
    "Q = 1\n",
    "Grade= 100\n",
    "Date = \"9/18/23\"\n",
    "BI = (Name, Class, Hmwk, Q, Grade, Date)\n",
    "\n",
    "#BI[1] = \"Name\" this is how you can check the immuntableness of the tuple\n",
    "\n",
    "print(BI)"
   ]
  },
  {
   "cell_type": "code",
   "execution_count": 44,
   "id": "d5be6279-6cfb-48f1-9c27-80b430ee240b",
   "metadata": {},
   "outputs": [
    {
     "data": {
      "text/plain": [
       "float"
      ]
     },
     "execution_count": 44,
     "metadata": {},
     "output_type": "execute_result"
    }
   ],
   "source": [
    "#checking for a type inside of a tuple. Inside a Tuple you can store othere lists and tuples\n",
    "\n",
    "tuple_A = (0, [1, 2, 3], (4, 5, 6), 7.0)\n",
    "type(tuple_A[3])"
   ]
  },
  {
   "cell_type": "code",
   "execution_count": 47,
   "id": "901d6e68-7425-4c25-9149-3427c574da7a",
   "metadata": {},
   "outputs": [
    {
     "data": {
      "text/plain": [
       "list"
      ]
     },
     "execution_count": 47,
     "metadata": {},
     "output_type": "execute_result"
    }
   ],
   "source": [
    "#changing a tuple to a list\n",
    "t= (1 , 2 , 3)\n",
    "t\n",
    "list(t)\n",
    "type(list(t))"
   ]
  },
  {
   "cell_type": "code",
   "execution_count": null,
   "id": "abd40f03-5885-4da7-9fab-6284324c7af7",
   "metadata": {},
   "outputs": [],
   "source": []
  }
 ],
 "metadata": {
  "kernelspec": {
   "display_name": "Python 3 (ipykernel)",
   "language": "python",
   "name": "python3"
  },
  "language_info": {
   "codemirror_mode": {
    "name": "ipython",
    "version": 3
   },
   "file_extension": ".py",
   "mimetype": "text/x-python",
   "name": "python",
   "nbconvert_exporter": "python",
   "pygments_lexer": "ipython3",
   "version": "3.10.12"
  }
 },
 "nbformat": 4,
 "nbformat_minor": 5
}
