{
 "cells": [
  {
   "cell_type": "code",
   "execution_count": 1,
   "id": "dda0b2d2",
   "metadata": {},
   "outputs": [
    {
     "name": "stdout",
     "output_type": "stream",
     "text": [
      "retard is 1829 years old\n"
     ]
    }
   ],
   "source": [
    "class Parrot:\n",
    "    \n",
    "    name = \"\"\n",
    "    age = 0\n",
    "    \n",
    "parrot1 = Parrot()\n",
    "parrot1.name = \"Cyprian\"\n",
    "parrot1.age = 1829\n",
    "\n",
    "print(f\"{parrot1.name} is {parrot1.age} years old\")"
   ]
  },
  {
   "cell_type": "code",
   "execution_count": 2,
   "id": "68e7fac4",
   "metadata": {},
   "outputs": [
    {
     "name": "stdout",
     "output_type": "stream",
     "text": [
      "retard is a 1829 years old\n"
     ]
    }
   ],
   "source": [
    "class Parrot:\n",
    "    \n",
    "    name = \"\"\n",
    "    age = 0\n",
    "    \n",
    "parrot1 = Parrot()\n",
    "parrot1.name = \"Cyprian\"\n",
    "parrot1.age = 1829\n",
    "\n",
    "print(f\"{parrot1.name} is a {parrot1.age} years old\")"
   ]
  },
  {
   "cell_type": "code",
   "execution_count": 4,
   "id": "37ab1854",
   "metadata": {},
   "outputs": [
    {
     "name": "stdout",
     "output_type": "stream",
     "text": [
      "Cyprian is 1829 years old\n"
     ]
    }
   ],
   "source": [
    "class Parrot:\n",
    "    \n",
    "    name = \"\"\n",
    "    age = 0\n",
    "    \n",
    "parrot1 = Parrot()\n",
    "parrot1.name = \"Cyprian\"\n",
    "parrot1.age = 1829\n",
    "\n",
    "parrot2 = Parrot()\n",
    "parrot2.name = \"Cyril\"\n",
    "parrot2.age = 5\n",
    "\n",
    "\n",
    "print(f\"{parrot1.name} is {parrot1.age} years old\")"
   ]
  },
  {
   "cell_type": "code",
   "execution_count": 5,
   "id": "a3eff8ea",
   "metadata": {},
   "outputs": [
    {
     "name": "stdout",
     "output_type": "stream",
     "text": [
      "Cyprian is 1829 years old\n"
     ]
    }
   ],
   "source": [
    "class Parrot:\n",
    "    \n",
    "    name = \"\"\n",
    "    age = 0\n",
    "    color = \"\"\n",
    "    \n",
    "    \n",
    "parrot1 = Parrot()\n",
    "parrot1.name = \"Cyprian\"\n",
    "parrot1.age = 1829\n",
    "parrot1.color = \"Blue\"\n",
    "\n",
    "parrot2 = Parrot()\n",
    "parrot2.name = \"Cyril\"\n",
    "parrot2.age = 5\n",
    "parrot2.color = \"Orange\"\n",
    "\n",
    "\n",
    "print(f\"{parrot1.name} is {parrot1.age} years old\")"
   ]
  },
  {
   "cell_type": "code",
   "execution_count": 9,
   "id": "51a600c5",
   "metadata": {},
   "outputs": [
    {
     "name": "stdout",
     "output_type": "stream",
     "text": [
      " The 800 year old bronze eagle name is Athanaius\n"
     ]
    }
   ],
   "source": [
    "class Eagle: \n",
    "    \n",
    "    name = \"\"\n",
    "    age = 0\n",
    "    color = \"\"\n",
    "    \n",
    "eagle1 = Eagle()\n",
    "eagle1.name = \"Athanaius\"\n",
    "eagle1.age = 800\n",
    "eagle1.color = \"bronze\"\n",
    "\n",
    "\n",
    "print(f\" The {eagle1.age} year old {eagle1.color} eagle name is {eagle1.name}\")"
   ]
  },
  {
   "cell_type": "code",
   "execution_count": null,
   "id": "070bcbc4",
   "metadata": {},
   "outputs": [],
   "source": []
  }
 ],
 "metadata": {
  "kernelspec": {
   "display_name": "Python 3 (ipykernel)",
   "language": "python",
   "name": "python3"
  },
  "language_info": {
   "codemirror_mode": {
    "name": "ipython",
    "version": 3
   },
   "file_extension": ".py",
   "mimetype": "text/x-python",
   "name": "python",
   "nbconvert_exporter": "python",
   "pygments_lexer": "ipython3",
   "version": "3.10.12"
  }
 },
 "nbformat": 4,
 "nbformat_minor": 5
}
