{
 "cells": [
  {
   "cell_type": "code",
   "execution_count": 5,
   "id": "84a956ba",
   "metadata": {},
   "outputs": [
    {
     "name": "stdout",
     "output_type": "stream",
     "text": [
      "10\n"
     ]
    }
   ],
   "source": [
    "#lists: order of collection of data. It is muttable\n",
    "\n",
    "numbers = [1,2,3,4,5,6,7,8,9,10]\n",
    "print(numbers[9])"
   ]
  },
  {
   "cell_type": "code",
   "execution_count": 9,
   "id": "cac066c4",
   "metadata": {},
   "outputs": [
    {
     "name": "stdout",
     "output_type": "stream",
     "text": [
      "[1, 3, 5, 7, 9]\n"
     ]
    }
   ],
   "source": [
    "#calling odd numbers in a list\n",
    "\n",
    "numbers = [1,2,3,4,5,6,7,8,9,10]\n",
    "\n",
    "only_odd = [num for num in numbers if num % 2 == 1]\n",
    " \n",
    "print(only_odd)"
   ]
  },
  {
   "cell_type": "code",
   "execution_count": 13,
   "id": "a780a456",
   "metadata": {},
   "outputs": [
    {
     "name": "stdout",
     "output_type": "stream",
     "text": [
      "Conrad Mercer\n"
     ]
    }
   ],
   "source": [
    "#creating a list of student information \n",
    "Name = \"Conrad Mercer\"\n",
    "Class = \"CSC106\"\n",
    "Homework = \"Week03Lab02\"\n",
    "Question = 2\n",
    "Grade = \"unknown\"\n",
    "Date = \"9/20/23\"\n",
    "\n",
    "student_id = [Name, Class, Homework, Question, Grade, Date]\n",
    "\n",
    "print(student_id[0])"
   ]
  },
  {
   "cell_type": "code",
   "execution_count": 18,
   "id": "97a61a71",
   "metadata": {},
   "outputs": [
    {
     "name": "stdout",
     "output_type": "stream",
     "text": [
      "A\n"
     ]
    }
   ],
   "source": [
    "#changing a list of student information \n",
    "Name = \"Conrad Mercer\"\n",
    "Class = \"CSC106\"\n",
    "Homework = \"Week03Lab02\"\n",
    "Question = 2\n",
    "Grade = \"unknown\"\n",
    "Date = \"9/20/23\"\n",
    "\n",
    "student_id = [Name, Class, Homework, Question, Grade, Date]\n",
    "\n",
    "student_id[4] = \"A\"\n",
    "\n",
    "print(student_id[4])"
   ]
  },
  {
   "cell_type": "code",
   "execution_count": 28,
   "id": "b479cac6",
   "metadata": {},
   "outputs": [
    {
     "name": "stdout",
     "output_type": "stream",
     "text": [
      "['MO', 'ND', 'Conrad', 'Mercer', 'CSC106', 'Week03Lab02', 2, 'unknown', '9/20/23', 'Umary']\n"
     ]
    }
   ],
   "source": [
    "#inserting a new element in a list of student information \n",
    "Name = \"Conrad\"\n",
    "LastName = \"Mercer\"\n",
    "Class = \"CSC106\"\n",
    "Homework = \"Week03Lab02\"\n",
    "Question = 2\n",
    "Grade = \"unknown\"\n",
    "Date = \"9/20/23\"\n",
    "School = \"Umary\"\n",
    "\n",
    "\n",
    "student_id = [Name, Class, Homework, Question, Grade, Date]\n",
    "\n",
    "#add to the end of a list\n",
    "student_id.append(School)\n",
    "\n",
    "#adds to whatever postion you want\n",
    "student_id.insert(1, LastName)\n",
    "\n",
    "#extends the list and puts it in the beginning unless there is a contraint telling it where to go. \n",
    "#If we extend just our normal list it gives M, O \n",
    "\n",
    "state_list = ['MO', 'ND']\n",
    "state_list.extend(student_id)\n",
    "\n",
    "\n",
    "#since I extended the orginal list \n",
    "print(state_list)"
   ]
  },
  {
   "cell_type": "code",
   "execution_count": 33,
   "id": "547a8eb9",
   "metadata": {},
   "outputs": [
    {
     "name": "stdout",
     "output_type": "stream",
     "text": [
      "['Conrad', 'CSC106', 'Week03Lab02', 2, 'unknown', '9/20/23']\n"
     ]
    }
   ],
   "source": [
    "#iremoving elements in a list of student information \n",
    "Name = \"Conrad\"\n",
    "LastName = \"Mercer\"\n",
    "Class = \"CSC106\"\n",
    "Homework = \"Week03Lab02\"\n",
    "Question = 2\n",
    "Grade = \"unknown\"\n",
    "Date = \"9/20/23\"\n",
    "School = \"Umary\"\n",
    "\n",
    "\n",
    "student_id = [Name, Class, Homework, Question, Grade, Date]\n",
    "\n",
    "#add to the end of a list\n",
    "student_id.append(School)\n",
    "\n",
    "#adds to whatever postion you want\n",
    "student_id.insert(1, LastName)\n",
    "\n",
    "#extends the list and puts it in the beginning unless there is a contraint telling it where to go. \n",
    "#If we extend just our normal list it gives M, O \n",
    "\n",
    "state_list = ['MO', 'ND']\n",
    "state_list.extend(student_id)\n",
    "\n",
    "#removes all added material\n",
    "student_id.remove(School)\n",
    "student_id.remove(LastName) \n",
    "\n",
    "\n",
    "#since I extended the orginal list \n",
    "print(student_id)"
   ]
  },
  {
   "cell_type": "code",
   "execution_count": 38,
   "id": "babc9acd",
   "metadata": {},
   "outputs": [
    {
     "name": "stdout",
     "output_type": "stream",
     "text": [
      "['Umary', 'ENG', 'CSC106', '3?', 'A', 'Conrad', '3107 Grace Hill Drive', 'momercers@gmail.com', '636-466-2208']\n"
     ]
    }
   ],
   "source": [
    "'''\n",
    "Challenge: \n",
    "1.Create a list of personal info\n",
    "2.Create a list of academic info\n",
    "3.using extend combine info\n",
    "'''\n",
    "\n",
    "#personal info\n",
    "\n",
    "pinfo = [\"Conrad\", \"3107 Grace Hill Drive\", \"momercers@gmail.com\", \"636-466-2208\"]\n",
    "\n",
    "#academic info\n",
    "\n",
    "ainfo = [\"Umary\", \"ENG\", \"CSC106\", \"3?\", \"A\"]\n",
    "\n",
    "#combining using extend\n",
    "\n",
    "ainfo.extend(pinfo)\n",
    "\n",
    "print(ainfo)"
   ]
  },
  {
   "cell_type": "code",
   "execution_count": 36,
   "id": "e98b717e",
   "metadata": {},
   "outputs": [
    {
     "data": {
      "text/plain": [
       "tuple"
      ]
     },
     "execution_count": 36,
     "metadata": {},
     "output_type": "execute_result"
    }
   ],
   "source": [
    "#find a type in a list\n",
    "\n",
    "list_A = [0, [1,2,3], (4,5,6), 7.0]\n",
    "\n",
    "type(list_A[2])\n"
   ]
  }
 ],
 "metadata": {
  "kernelspec": {
   "display_name": "Python 3 (ipykernel)",
   "language": "python",
   "name": "python3"
  },
  "language_info": {
   "codemirror_mode": {
    "name": "ipython",
    "version": 3
   },
   "file_extension": ".py",
   "mimetype": "text/x-python",
   "name": "python",
   "nbconvert_exporter": "python",
   "pygments_lexer": "ipython3",
   "version": "3.10.12"
  }
 },
 "nbformat": 4,
 "nbformat_minor": 5
}
