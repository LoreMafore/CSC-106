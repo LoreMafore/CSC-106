{
 "cells": [
  {
   "cell_type": "code",
   "execution_count": 7,
   "id": "c6e7ab1c",
   "metadata": {},
   "outputs": [
    {
     "name": "stdout",
     "output_type": "stream",
     "text": [
      "Give a number less than 5: -1\n",
      "Good job your number was less than 5\n"
     ]
    }
   ],
   "source": [
    " i = int(input(\"Give a number less than 5: \"))\n",
    "\n",
    "if (i < 5):\n",
    "    print(\"Good job your number was less than 5\")\n",
    "    \n",
    "else:\n",
    "    print(\"You must be dumb that is not less than 5\")"
   ]
  },
  {
   "cell_type": "code",
   "execution_count": 10,
   "id": "bec1da1b",
   "metadata": {},
   "outputs": [
    {
     "name": "stdout",
     "output_type": "stream",
     "text": [
      "Give a number inbetween 0 and 9 or 42: 23\n",
      "You are a bloody moron\n"
     ]
    }
   ],
   "source": [
    "i = int(input(\"Give a number inbetween 0 and 9 or 42: \"))\n",
    "\n",
    "if i in range(9):\n",
    "    print(\"AHHH You Got It You Moron\")\n",
    "\n",
    "elif(i == 42):\n",
    "    print(\"Good Job idiot\")\n",
    "    \n",
    "else:\n",
    "    print(\"You are a bloody moron\")"
   ]
  },
  {
   "cell_type": "code",
   "execution_count": null,
   "id": "6e7b4513",
   "metadata": {},
   "outputs": [],
   "source": []
  }
 ],
 "metadata": {
  "kernelspec": {
   "display_name": "Python 3 (ipykernel)",
   "language": "python",
   "name": "python3"
  },
  "language_info": {
   "codemirror_mode": {
    "name": "ipython",
    "version": 3
   },
   "file_extension": ".py",
   "mimetype": "text/x-python",
   "name": "python",
   "nbconvert_exporter": "python",
   "pygments_lexer": "ipython3",
   "version": "3.10.12"
  }
 },
 "nbformat": 4,
 "nbformat_minor": 5
}
