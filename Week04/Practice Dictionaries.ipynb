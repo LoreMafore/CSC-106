{
 "cells": [
  {
   "cell_type": "code",
   "execution_count": 1,
   "id": "feddcb6d",
   "metadata": {},
   "outputs": [
    {
     "name": "stdout",
     "output_type": "stream",
     "text": [
      "{'brand': 'Ford', 'model': 'Mustang', 'year': 2023}\n"
     ]
    }
   ],
   "source": [
    "#example of a dictionary \n",
    "\n",
    "my_ride ={\n",
    "    \"brand\": \"Ford\",\n",
    "    \"model\": \"Mustang\",\n",
    "    \"year\": 2023 \n",
    "}\n",
    "\n",
    "print (my_ride)\n",
    "\n"
   ]
  },
  {
   "cell_type": "code",
   "execution_count": 7,
   "id": "582953ab",
   "metadata": {},
   "outputs": [
    {
     "data": {
      "text/plain": [
       "dict_keys(['brand', 'model', 'year'])"
      ]
     },
     "execution_count": 7,
     "metadata": {},
     "output_type": "execute_result"
    }
   ],
   "source": [
    "#example of a dictionary and calling keys \n",
    "my_ride ={\n",
    "    \"brand\": \"Ford\",\n",
    "    \"model\": \"Mustang\",\n",
    "    \"year\": 2023 \n",
    "}\n",
    "\n",
    "\n",
    "my_ride.keys()"
   ]
  },
  {
   "cell_type": "code",
   "execution_count": 15,
   "id": "b792c69f",
   "metadata": {},
   "outputs": [
    {
     "data": {
      "text/plain": [
       "dict_values(['Ford', 'Mustang', 2023])"
      ]
     },
     "execution_count": 15,
     "metadata": {},
     "output_type": "execute_result"
    }
   ],
   "source": [
    "#example of a dictionary and calling keys \n",
    "my_ride ={\n",
    "    \"brand\": \"Ford\",\n",
    "    \"model\": \"Mustang\",\n",
    "    \"year\": 2023 \n",
    "}\n",
    "\n",
    "my_ride.values()"
   ]
  },
  {
   "cell_type": "code",
   "execution_count": 16,
   "id": "7d9f338c",
   "metadata": {},
   "outputs": [
    {
     "name": "stdout",
     "output_type": "stream",
     "text": [
      "2023\n"
     ]
    }
   ],
   "source": [
    "#calling for a value in the dictionary\n",
    "\n",
    "my_ride ={\n",
    "    \"brand\": \"Ford\",\n",
    "    \"model\": \"Mustang\",\n",
    "    \"year\": 2023 \n",
    "}\n",
    "\n",
    "print (my_ride[\"year\"])"
   ]
  },
  {
   "cell_type": "code",
   "execution_count": 18,
   "id": "b1598a09",
   "metadata": {},
   "outputs": [
    {
     "name": "stdout",
     "output_type": "stream",
     "text": [
      "{'brand': 'Ford', 'model': 'F150', 'year': 2023, 'color': 'orange'}\n"
     ]
    }
   ],
   "source": [
    "#adding and replaces another key\n",
    "my_ride ={\n",
    "    \"brand\": \"Ford\",\n",
    "    \"model\": \"Mustang\",\n",
    "    \"year\": 2023 \n",
    "}\n",
    "\n",
    "#replaces a key\n",
    "my_ride[\"model\"] = \"F150\"\n",
    "\n",
    "#adding another key\n",
    "my_ride[\"color\"] = \"orange\"\n",
    "\n",
    "print(my_ride)"
   ]
  },
  {
   "cell_type": "code",
   "execution_count": 20,
   "id": "bafbafea",
   "metadata": {},
   "outputs": [
    {
     "data": {
      "text/plain": [
       "3"
      ]
     },
     "execution_count": 20,
     "metadata": {},
     "output_type": "execute_result"
    }
   ],
   "source": [
    "#finding length\n",
    "my_ride ={\n",
    "    \"brand\": \"Ford\",\n",
    "    \"model\": \"Mustang\",\n",
    "    \"year\": 2023 \n",
    "}\n",
    "len(my_ride)"
   ]
  },
  {
   "cell_type": "code",
   "execution_count": 22,
   "id": "8942425c",
   "metadata": {},
   "outputs": [
    {
     "data": {
      "text/plain": [
       "int"
      ]
     },
     "execution_count": 22,
     "metadata": {},
     "output_type": "execute_result"
    }
   ],
   "source": [
    "#types in dictionaries\n",
    "my_ride ={\n",
    "    \"brand\": \"Ford\",\n",
    "    \"model\": \"Mustang\",\n",
    "    \"year\": 2023 \n",
    "}\n",
    "\n",
    "type(my_ride[\"year\"])"
   ]
  },
  {
   "cell_type": "code",
   "execution_count": null,
   "id": "7a1aa939",
   "metadata": {},
   "outputs": [],
   "source": [
    "Name = input(\"ajhhhhh\")"
   ]
  },
  {
   "cell_type": "code",
   "execution_count": null,
   "id": "faaa0260",
   "metadata": {},
   "outputs": [],
   "source": [
    "#create a dictionary with inputs\n",
    "\n",
    "name = input(\"Name:\")\n",
    "Class = input(\"Class:\")\n",
    "Hmwk = input(\"Homework:\")\n",
    "qs = input(\"Question:\")\n",
    "grade = input(\"Grade:\")\n",
    "date = input(\"Date:\")\n",
    "\n",
    "student_id = dict(name,Class,Hmwk,qs,grade, date)\n",
    "\n",
    "print(student_id)"
   ]
  },
  {
   "cell_type": "code",
   "execution_count": 3,
   "id": "c06182f2",
   "metadata": {},
   "outputs": [
    {
     "name": "stdout",
     "output_type": "stream",
     "text": [
      "['Mary', 50, 'She', 'Address']\n"
     ]
    }
   ],
   "source": [
    "a = [\"Mary\", 50, \"She\", \"Address\"]\n",
    "\n",
    "if a[0] == \"Mary\" or a[1] == \"Mary\" or a[2] == \"Mary\" or a[3] == \"Mary\":\n",
    "    print(a)"
   ]
  },
  {
   "cell_type": "code",
   "execution_count": null,
   "id": "32e30b63",
   "metadata": {},
   "outputs": [],
   "source": []
  }
 ],
 "metadata": {
  "kernelspec": {
   "display_name": "Python 3 (ipykernel)",
   "language": "python",
   "name": "python3"
  },
  "language_info": {
   "codemirror_mode": {
    "name": "ipython",
    "version": 3
   },
   "file_extension": ".py",
   "mimetype": "text/x-python",
   "name": "python",
   "nbconvert_exporter": "python",
   "pygments_lexer": "ipython3",
   "version": "3.10.12"
  }
 },
 "nbformat": 4,
 "nbformat_minor": 5
}
