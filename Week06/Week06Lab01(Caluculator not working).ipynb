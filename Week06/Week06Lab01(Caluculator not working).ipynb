{
 "cells": [
  {
   "cell_type": "code",
   "execution_count": 2,
   "id": "65f643d4",
   "metadata": {},
   "outputs": [
    {
     "name": "stdout",
     "output_type": "stream",
     "text": [
      "2\n",
      "2\n",
      "a and b are the same\n"
     ]
    }
   ],
   "source": [
    "#easy ifs \n",
    "b = float(input())\n",
    "a = float(input())\n",
    "\n",
    "\n",
    "if b < a:\n",
    "    print(\"a is greater than b\")\n",
    "\n",
    "elif a == b:\n",
    "    print(\"a and b are the same\")\n",
    "    \n",
    "elif b > a:\n",
    "    print(\"b is greater than an a\")\n",
    "    \n",
    "else:\n",
    "    print(\"what did you give me\")"
   ]
  },
  {
   "cell_type": "code",
   "execution_count": 1,
   "id": "dab84fcd",
   "metadata": {},
   "outputs": [
    {
     "data": {
      "text/plain": [
       "2.0"
      ]
     },
     "execution_count": 1,
     "metadata": {},
     "output_type": "execute_result"
    }
   ],
   "source": [
    "#importanting a library and using it\n",
    "import math\n",
    "math.sqrt(4)"
   ]
  },
  {
   "cell_type": "code",
   "execution_count": 9,
   "id": "ad769fbd",
   "metadata": {},
   "outputs": [
    {
     "name": "stdout",
     "output_type": "stream",
     "text": [
      "2\n",
      "True\n"
     ]
    }
   ],
   "source": [
    "#Check for a number\n",
    "num = input()\n",
    "numd = num.isnumeric()\n",
    "\n",
    "if(numd == 1):\n",
    "    print(\"It's a number\")"
   ]
  },
  {
   "cell_type": "code",
   "execution_count": 23,
   "id": "f4f1e644",
   "metadata": {},
   "outputs": [
    {
     "name": "stdout",
     "output_type": "stream",
     "text": [
      "Do you want to use nomral properties or trig properties? If normal type normal.If trig type trig.normal\n",
      "Welcome to normal functions\n",
      "put your equation here:1-2\n"
     ]
    },
    {
     "ename": "ValueError",
     "evalue": "invalid literal for int() with base 10: '1-2'",
     "output_type": "error",
     "traceback": [
      "\u001b[0;31m---------------------------------------------------------------------------\u001b[0m",
      "\u001b[0;31mValueError\u001b[0m                                Traceback (most recent call last)",
      "\u001b[0;32m/tmp/ipykernel_5965/2512392737.py\u001b[0m in \u001b[0;36m<module>\u001b[0;34m\u001b[0m\n\u001b[1;32m      5\u001b[0m \u001b[0;32mif\u001b[0m \u001b[0;34m(\u001b[0m\u001b[0mtypeofmath\u001b[0m \u001b[0;34m==\u001b[0m \u001b[0;34m\"normal\"\u001b[0m\u001b[0;34m)\u001b[0m\u001b[0;34m:\u001b[0m\u001b[0;34m\u001b[0m\u001b[0;34m\u001b[0m\u001b[0m\n\u001b[1;32m      6\u001b[0m     \u001b[0mprint\u001b[0m\u001b[0;34m(\u001b[0m\u001b[0;34m\"Welcome to normal functions\"\u001b[0m\u001b[0;34m)\u001b[0m\u001b[0;34m\u001b[0m\u001b[0;34m\u001b[0m\u001b[0m\n\u001b[0;32m----> 7\u001b[0;31m     \u001b[0meqauationN\u001b[0m \u001b[0;34m=\u001b[0m \u001b[0mint\u001b[0m\u001b[0;34m(\u001b[0m\u001b[0minput\u001b[0m\u001b[0;34m(\u001b[0m\u001b[0;34m\"put your equation here:\"\u001b[0m\u001b[0;34m)\u001b[0m\u001b[0;34m)\u001b[0m\u001b[0;34m\u001b[0m\u001b[0;34m\u001b[0m\u001b[0m\n\u001b[0m\u001b[1;32m      8\u001b[0m     \u001b[0mequuationND\u001b[0m \u001b[0;34m=\u001b[0m \u001b[0meqauationN\u001b[0m\u001b[0;34m.\u001b[0m\u001b[0misnumeric\u001b[0m\u001b[0;34m(\u001b[0m\u001b[0;34m)\u001b[0m\u001b[0;34m\u001b[0m\u001b[0;34m\u001b[0m\u001b[0m\n\u001b[1;32m      9\u001b[0m \u001b[0;34m\u001b[0m\u001b[0m\n",
      "\u001b[0;31mValueError\u001b[0m: invalid literal for int() with base 10: '1-2'"
     ]
    }
   ],
   "source": [
    "import math\n",
    "\n",
    "typeofmath = input(\"Do you want to use nomral properties or trig properties? If normal type normal.If trig type trig.\")\n",
    "\n",
    "if (typeofmath == \"normal\"):\n",
    "    print(\"Welcome to normal functions\")\n",
    "    eqauationN = int(input(\"put your equation here:\"))\n",
    "    equuationND = eqauationN.isnumeric()\n",
    "    \n",
    "    if (equuationND == 1):\n",
    "        print(eqauationN)\n",
    "    \n",
    "    "
   ]
  }
 ],
 "metadata": {
  "kernelspec": {
   "display_name": "Python 3 (ipykernel)",
   "language": "python",
   "name": "python3"
  },
  "language_info": {
   "codemirror_mode": {
    "name": "ipython",
    "version": 3
   },
   "file_extension": ".py",
   "mimetype": "text/x-python",
   "name": "python",
   "nbconvert_exporter": "python",
   "pygments_lexer": "ipython3",
   "version": "3.10.12"
  }
 },
 "nbformat": 4,
 "nbformat_minor": 5
}
