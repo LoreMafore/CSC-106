{
 "cells": [
  {
   "cell_type": "code",
   "execution_count": 3,
   "id": "3720314b",
   "metadata": {},
   "outputs": [
    {
     "name": "stdout",
     "output_type": "stream",
     "text": [
      "    *\n"
     ]
    }
   ],
   "source": [
    "from termcolor import colored\n",
    "import time\n",
    "\n",
    "\n",
    "display = [1,2,3,4,5,6,7,8]\n",
    "display[0] = colored(' ', 'black', attrs=['reverse', 'blink'])\n",
    "display[1] = colored(' ', 'black', attrs=['reverse', 'blink'])\n",
    "\n",
    "display[2] = colored('*', 'red', attrs=['reverse', 'blink'])\n",
    "\n",
    "print(display[0] ,display[1],display[2])\n"
   ]
  },
  {
   "cell_type": "code",
   "execution_count": null,
   "id": "7603fe9a",
   "metadata": {},
   "outputs": [],
   "source": [
    "import time\n",
    "from termcolor import colored\n",
    "\n",
    "# Define the display with your initial LED setup\n",
    "display = [colored(' ', 'black', attrs=['reverse', 'blink'])] * 8\n",
    "display[2] = colored('*', 'red', attrs=['reverse', 'blink'])\n",
    "\n",
    "# Define the number of repetitions\n",
    "num_repetitions = 3\n",
    "\n",
    "while num_repetitions > 0:\n",
    "    # Display LEDs from left to right\n",
    "    for i in range(len(display)):\n",
    "        print(\"\".join(display))\n",
    "        time.sleep(2.5)\n",
    "        display[i] = colored(' ', 'black', attrs=['reverse', 'blink'])\n",
    "        if i < len(display) - 1:\n",
    "            display[i + 1] = colored('*', 'red', attrs=['reverse', 'blink'])\n",
    "\n",
    "    # Display LEDs from right to left\n",
    "    for i in range(len(display) - 1, -1, -1):\n",
    "        print(\"\".join(display))\n",
    "        time.sleep(2.5)\n",
    "        display[i] = colored(' ', 'black', attrs=['reverse', 'blink'])\n",
    "        if i > 0:\n",
    "            display[i - 1] = colored('*', 'red', attrs=['reverse', 'blink'])\n",
    "\n",
    "    num_repetitions -= 1\n",
    "\n",
    "# End of repetitions\n"
   ]
  },
  {
   "cell_type": "code",
   "execution_count": 1,
   "id": "5375ba08",
   "metadata": {},
   "outputs": [
    {
     "name": "stdout",
     "output_type": "stream",
     "text": [
      "        \n",
      "        \n",
      "        \n",
      "        \n",
      "        \n",
      "        \n",
      "        \n",
      "        \n",
      "        \n",
      "        \n",
      "        \n",
      "        \n",
      "        \n",
      "        \n",
      "        \n",
      "        \n",
      "        \n",
      "        \n",
      "        \n",
      "        \n"
     ]
    }
   ],
   "source": [
    "from termcolor import colored\n",
    "import time\n",
    "\n",
    "display = [1,2,3,4,5,6,7,8]\n",
    "\n",
    "dir = 1\n",
    "index = 1\n",
    "bounceCount = 3\n",
    "\n",
    "while(True):\n",
    "\n",
    "    for d in range(0, len(display)):\n",
    "        display[d] = colored(' ', 'black', attrs=['reverse', 'blink'])\n",
    "    \n",
    "    if(index >= len(display) - 1):\n",
    "        dir = -1\n",
    "        bounceCount -= 1\n",
    "\n",
    "    if(index <= 0):\n",
    "        dir = 1\n",
    "        bounceCount -= 1\n",
    "\n",
    "    if(bounceCount <= 0):\n",
    "        break\n",
    "\n",
    "\n",
    "    index += dir\n",
    "\n",
    "    display[index] = colored(' ', 'red', attrs=['reverse', 'blink'])\n",
    "\n",
    "    for d in display:\n",
    "        print(d, end=\"\")\n",
    "    print('')\n",
    "\n",
    "    time.sleep(.2)"
   ]
  },
  {
   "cell_type": "code",
   "execution_count": null,
   "id": "d79f20c7",
   "metadata": {},
   "outputs": [],
   "source": []
  }
 ],
 "metadata": {
  "kernelspec": {
   "display_name": "Python 3 (ipykernel)",
   "language": "python",
   "name": "python3"
  },
  "language_info": {
   "codemirror_mode": {
    "name": "ipython",
    "version": 3
   },
   "file_extension": ".py",
   "mimetype": "text/x-python",
   "name": "python",
   "nbconvert_exporter": "python",
   "pygments_lexer": "ipython3",
   "version": "3.10.12"
  }
 },
 "nbformat": 4,
 "nbformat_minor": 5
}
