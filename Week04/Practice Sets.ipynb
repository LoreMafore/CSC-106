{
 "cells": [
  {
   "cell_type": "code",
   "execution_count": 1,
   "id": "46dbb1b2",
   "metadata": {},
   "outputs": [
    {
     "name": "stdout",
     "output_type": "stream",
     "text": [
      "Student ID: {1, 2, 3, 4, 5}\n"
     ]
    }
   ],
   "source": [
    "#Creating a student ID set\n",
    "student_id = {1,2,3,4,5}\n",
    "print(\"Student ID:\", student_id)"
   ]
  },
  {
   "cell_type": "code",
   "execution_count": 3,
   "id": "e70fb63b",
   "metadata": {},
   "outputs": [
    {
     "name": "stdout",
     "output_type": "stream",
     "text": [
      "Name {'C', 'D', 'R', 'N', 'O', 'A'}\n"
     ]
    }
   ],
   "source": [
    "# create a set of string types\n",
    "Name = {\"C\", \"O\", \"N\", \"R\", \"A\", \"D\"}\n",
    "print(\"Name\", Name)\n",
    "#it prints the first and last letter then the second and the second to last and so on."
   ]
  },
  {
   "cell_type": "code",
   "execution_count": 4,
   "id": "61440cab",
   "metadata": {},
   "outputs": [
    {
     "name": "stdout",
     "output_type": "stream",
     "text": [
      "Your mom: {200, 57, 'Hi', 'Bacon'}\n"
     ]
    }
   ],
   "source": [
    "#create a mixed_set of data types\n",
    "mixed = {\"Hi\", 200, \"Bacon\", 57}\n",
    "print(\"Your mom:\", mixed)"
   ]
  },
  {
   "cell_type": "code",
   "execution_count": 9,
   "id": "de2db20d",
   "metadata": {},
   "outputs": [
    {
     "name": "stdout",
     "output_type": "stream",
     "text": [
      "{80.0, 'THE,MTH,CSC', 'Question: 1', 'Conrad', 'Homework', 'September 27th 2023'}\n"
     ]
    }
   ],
   "source": [
    "#create a set for this information and assign to a variable called Student_ID\n",
    "classes = (\"THE,MTH,CSC\")\n",
    "student_id = {\"Conrad\", classes, \"Homework\", \"Question: 1\", 80.0, \"September 27th 2023\"}\n",
    "print(student_id)"
   ]
  },
  {
   "cell_type": "code",
   "execution_count": 2,
   "id": "85a85450",
   "metadata": {},
   "outputs": [
    {
     "name": "stdout",
     "output_type": "stream",
     "text": [
      "Your mom: ('Hi', 200, 'Bacon', 57)\n",
      "True\n"
     ]
    }
   ],
   "source": [
    "#Getting a position value out of a set\n",
    "mixed = {\"Hi\", 200, \"Bacon\", 57}\n",
    "print(\"Your mom:\", mixed)\n",
    "set(mixed)\n",
    " \n",
    "print(\"Hi\" in mixed)"
   ]
  },
  {
   "cell_type": "code",
   "execution_count": 15,
   "id": "81c303d1",
   "metadata": {},
   "outputs": [
    {
     "name": "stdout",
     "output_type": "stream",
     "text": [
      "{(12, 18, 24), 99.1, 'HELP ME', 991}\n"
     ]
    }
   ],
   "source": [
    "#set with int, tuples, float, string\n",
    "\n",
    "random_crap = {\"HELP ME\", 991, 99.1, (12,18,24)}\n",
    "print(random_crap)"
   ]
  },
  {
   "cell_type": "code",
   "execution_count": 18,
   "id": "4a40045f",
   "metadata": {},
   "outputs": [],
   "source": [
    "#set with int, lists, float, string\n",
    "\n",
    "random_crap = {\"HELP ME\", 991, 99.1, [1,2,3,4]}"
   ]
  },
  {
   "cell_type": "code",
   "execution_count": 1,
   "id": "a182f51b",
   "metadata": {},
   "outputs": [
    {
     "ename": "TypeError",
     "evalue": "unhashable type: 'set'",
     "output_type": "error",
     "traceback": [
      "\u001b[0;31m---------------------------------------------------------------------------\u001b[0m",
      "\u001b[0;31mTypeError\u001b[0m                                 Traceback (most recent call last)",
      "\u001b[0;32m/tmp/ipykernel_3419/2954410007.py\u001b[0m in \u001b[0;36m<module>\u001b[0;34m\u001b[0m\n\u001b[1;32m      1\u001b[0m \u001b[0;31m#set with int, sets, float, string\u001b[0m\u001b[0;34m\u001b[0m\u001b[0;34m\u001b[0m\u001b[0m\n\u001b[0;32m----> 2\u001b[0;31m \u001b[0mrandom_crap\u001b[0m \u001b[0;34m=\u001b[0m \u001b[0;34m{\u001b[0m\u001b[0;34m\"HELP ME\"\u001b[0m\u001b[0;34m,\u001b[0m \u001b[0;36m991\u001b[0m\u001b[0;34m,\u001b[0m \u001b[0;36m99.1\u001b[0m\u001b[0;34m,\u001b[0m \u001b[0;34m{\u001b[0m\u001b[0;36m1\u001b[0m\u001b[0;34m,\u001b[0m\u001b[0;36m2\u001b[0m\u001b[0;34m,\u001b[0m\u001b[0;36m3\u001b[0m\u001b[0;34m,\u001b[0m\u001b[0;36m4\u001b[0m\u001b[0;34m}\u001b[0m\u001b[0;34m}\u001b[0m\u001b[0;34m\u001b[0m\u001b[0;34m\u001b[0m\u001b[0m\n\u001b[0m\u001b[1;32m      3\u001b[0m \u001b[0mprint\u001b[0m\u001b[0;34m(\u001b[0m\u001b[0mrandom_crap\u001b[0m\u001b[0;34m)\u001b[0m\u001b[0;34m\u001b[0m\u001b[0;34m\u001b[0m\u001b[0m\n",
      "\u001b[0;31mTypeError\u001b[0m: unhashable type: 'set'"
     ]
    }
   ],
   "source": [
    "#set with int, sets, float, string\n",
    "random_crap = {\"HELP ME\", 991, 99.1, {1,2,3,4}}\n",
    "print(random_crap)"
   ]
  },
  {
   "cell_type": "code",
   "execution_count": 24,
   "id": "a4cbcca4",
   "metadata": {},
   "outputs": [
    {
     "name": "stdout",
     "output_type": "stream",
     "text": [
      "{8, 2, 4, 6}\n"
     ]
    }
   ],
   "source": [
    "#ignoring duplicates\n",
    "numbers = {2,4,6,6,2,8}\n",
    "print(numbers)"
   ]
  },
  {
   "cell_type": "code",
   "execution_count": 27,
   "id": "2c7ce3ae",
   "metadata": {},
   "outputs": [
    {
     "name": "stdout",
     "output_type": "stream",
     "text": [
      "set()\n"
     ]
    }
   ],
   "source": [
    "#create an empty set\n",
    "empty_set = set()\n",
    "print(empty_set)"
   ]
  },
  {
   "cell_type": "code",
   "execution_count": 28,
   "id": "e43138b6",
   "metadata": {},
   "outputs": [
    {
     "name": "stdout",
     "output_type": "stream",
     "text": [
      "{1, 2, 4, 6, 8}\n"
     ]
    }
   ],
   "source": [
    "#add numbers in a set\n",
    "numbers = {2,4,6,6,2,8}\n",
    "numbers.add(1)\n",
    "print(numbers)"
   ]
  },
  {
   "cell_type": "code",
   "execution_count": 37,
   "id": "6695e18d",
   "metadata": {},
   "outputs": [
    {
     "name": "stdout",
     "output_type": "stream",
     "text": [
      "{'CHEM', 'English', 'MTH', 'PHS', 'BIO'}\n"
     ]
    }
   ],
   "source": [
    "classes = {\"MTH\", \"PHS\", \"CHEM\", \"BIO\"}\n",
    "new_class = [\"English\"]\n",
    "\n",
    "classes.update(new_class)\n",
    "print(classes)"
   ]
  },
  {
   "cell_type": "code",
   "execution_count": 5,
   "id": "865f20ee",
   "metadata": {},
   "outputs": [
    {
     "name": "stdout",
     "output_type": "stream",
     "text": [
      "{'CTH101', 'Calc2', 'FYE', 'ENR101', 'Presidents Seminar', 'Search For Truth', 'ENR#', 'CSC106', 'CSC#', 'ENR200', 'CALC1'}\n"
     ]
    }
   ],
   "source": [
    "#my classes\n",
    "classes = {\"CALC1\", \"CSC106\", \"ENR200\", \"ENR101\", \"FYE\", \"Presidents Seminar\",\"CTH101\"}\n",
    "new_classes = [\"Calc2\", \"Search For Truth\", \"ENR#\", \"CSC#\"]\n",
    "\n",
    "classes.update(new_classes)\n",
    "print(classes)"
   ]
  },
  {
   "cell_type": "code",
   "execution_count": 3,
   "id": "90f77bfb",
   "metadata": {},
   "outputs": [
    {
     "name": "stdout",
     "output_type": "stream",
     "text": [
      "{'CTH101', 'Calc2', 'FYE', 'ENR101', 'Presidents Seminar', 'Search For Truth', 'ENR#', 'CSC106', 'CSC#', 'ENR200', 'CALC1'}\n"
     ]
    }
   ],
   "source": [
    "#Removing a part of the set\n",
    "#my classes\n",
    "classes = {\"CALC1\", \"CSC106\", \"ENR200\", \"ENR101\", \"FYE\", \"Presidents Seminar\",\"CTH101\"}\n",
    "new_classes = [\"Calc2\", \"Search For Truth\", \"ENR#\", \"CSC#\"]\n",
    "\n",
    "classes.update(new_classes)\n",
    "classes.discard('CALC2')\n",
    "print(classes)"
   ]
  },
  {
   "cell_type": "code",
   "execution_count": 10,
   "id": "58ba4e87",
   "metadata": {},
   "outputs": [
    {
     "name": "stdout",
     "output_type": "stream",
     "text": [
      "{'ND', 'Conrad', 7500, 'University Drive', 90, 'Bismark', 'Scott', 5804, 'CSC106', 'Mercer', 'A'}\n"
     ]
    }
   ],
   "source": [
    "'''\n",
    "1. Create a tuple : First_name, Middle_name, Last_name \n",
    "2. Create a list : CSC106, 90, A\n",
    "3. Create a set : 7500, University Driver, Bismarck, ND, 58504\n",
    "'''\n",
    "\n",
    "#tuple,list,set\n",
    "name = (\"Conrad\", \"Scott\", \"Mercer\")\n",
    "cs_class = [\"CSC106\", 90, \"A\"]\n",
    "address = {7500, \"University Drive\", \"Bismark\", \"ND\", 5804}\n",
    "\n",
    "address.update(cs_class, name)\n",
    "\n",
    "print(address)"
   ]
  },
  {
   "cell_type": "code",
   "execution_count": null,
   "id": "41cbe686",
   "metadata": {},
   "outputs": [],
   "source": []
  }
 ],
 "metadata": {
  "kernelspec": {
   "display_name": "Python 3 (ipykernel)",
   "language": "python",
   "name": "python3"
  },
  "language_info": {
   "codemirror_mode": {
    "name": "ipython",
    "version": 3
   },
   "file_extension": ".py",
   "mimetype": "text/x-python",
   "name": "python",
   "nbconvert_exporter": "python",
   "pygments_lexer": "ipython3",
   "version": "3.10.12"
  }
 },
 "nbformat": 4,
 "nbformat_minor": 5
}
