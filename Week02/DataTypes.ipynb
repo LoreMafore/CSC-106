{
 "cells": [
  {
   "cell_type": "code",
   "execution_count": 19,
   "id": "75d29509-4429-4b95-95dd-bd011679e3a4",
   "metadata": {},
   "outputs": [
    {
     "data": {
      "text/plain": [
       "int"
      ]
     },
     "execution_count": 19,
     "metadata": {},
     "output_type": "execute_result"
    }
   ],
   "source": [
    "#type lets you find what type the input is.\n",
    "#finding an int\n",
    "type(52)"
   ]
  },
  {
   "cell_type": "code",
   "execution_count": 13,
   "id": "8ab9e458-3dbe-4090-a2a0-72b6ebc25db4",
   "metadata": {},
   "outputs": [
    {
     "data": {
      "text/plain": [
       "float"
      ]
     },
     "execution_count": 13,
     "metadata": {},
     "output_type": "execute_result"
    }
   ],
   "source": [
    "#finding a float\n",
    "type(52.2)"
   ]
  },
  {
   "cell_type": "code",
   "execution_count": 14,
   "id": "726be618-2945-49eb-a0f4-a5da7ce15bf4",
   "metadata": {},
   "outputs": [
    {
     "data": {
      "text/plain": [
       "str"
      ]
     },
     "execution_count": 14,
     "metadata": {},
     "output_type": "execute_result"
    }
   ],
   "source": [
    "#finding a string\n",
    "type(\"Jesus\")"
   ]
  },
  {
   "cell_type": "code",
   "execution_count": 17,
   "id": "2bb755b9-bb84-459b-9baf-375d24551a3e",
   "metadata": {},
   "outputs": [
    {
     "data": {
      "text/plain": [
       "builtin_function_or_method"
      ]
     },
     "execution_count": 17,
     "metadata": {},
     "output_type": "execute_result"
    }
   ],
   "source": [
    "#finding a built in function\n",
    "type(print)"
   ]
  },
  {
   "cell_type": "code",
   "execution_count": 26,
   "id": "a8ca4305-f133-42a8-b7f5-b2f8de51198b",
   "metadata": {},
   "outputs": [
    {
     "data": {
      "text/plain": [
       "bool"
      ]
     },
     "execution_count": 26,
     "metadata": {},
     "output_type": "execute_result"
    }
   ],
   "source": [
    "#finding a bool\n",
    "type(False)"
   ]
  },
  {
   "cell_type": "code",
   "execution_count": 28,
   "id": "b1303d3f-49a3-4448-a7f8-8c818d00c45f",
   "metadata": {},
   "outputs": [
    {
     "name": "stdout",
     "output_type": "stream",
     "text": [
      "12\n"
     ]
    }
   ],
   "source": [
    "#simple variable \n",
    "a = 12\n",
    "print(a)"
   ]
  },
  {
   "cell_type": "code",
   "execution_count": 32,
   "id": "ccfa48e0-a4f0-401a-9815-db6d5280ef14",
   "metadata": {},
   "outputs": [],
   "source": [
    "#creating variables and assigning certain values to them such as string, int, float, bool\n",
    "Name = \"Conrad Mercer\"\n",
    "Class = \"CSC 106\"\n",
    "HMWK = 3\n",
    "Q = 1\n",
    "Grade = 100.0\n",
    "Pass = True"
   ]
  },
  {
   "cell_type": "code",
   "execution_count": 34,
   "id": "eb15643c-e819-44b0-81ae-99f08c407e74",
   "metadata": {},
   "outputs": [
    {
     "data": {
      "text/plain": [
       "int"
      ]
     },
     "execution_count": 34,
     "metadata": {},
     "output_type": "execute_result"
    }
   ],
   "source": [
    "#changing a string into an interger\n",
    "int('1')\n",
    "type(int('1'))"
   ]
  },
  {
   "cell_type": "code",
   "execution_count": 2,
   "id": "fc59a170-ac91-44d5-8b3a-0d183537225c",
   "metadata": {},
   "outputs": [
    {
     "name": "stdout",
     "output_type": "stream",
     "text": [
      "20.2\n"
     ]
    }
   ],
   "source": [
    "#addition\n",
    "sum = 12.2+8\n",
    "print(sum)"
   ]
  },
  {
   "cell_type": "code",
   "execution_count": 6,
   "id": "b405a781-b252-4f09-8281-ea09fc9cb38e",
   "metadata": {},
   "outputs": [
    {
     "name": "stdout",
     "output_type": "stream",
     "text": [
      "Conrad Mercer: 18\n"
     ]
    }
   ],
   "source": [
    "#adding strings\n",
    "name = \"Conrad Mercer:\" + \" 18\"\n",
    "print(name)"
   ]
  },
  {
   "cell_type": "code",
   "execution_count": 7,
   "id": "50e1a207-ced7-4607-ac20-4152449d3097",
   "metadata": {},
   "outputs": [
    {
     "name": "stdout",
     "output_type": "stream",
     "text": [
      "-3.5\n"
     ]
    }
   ],
   "source": [
    "#subtration\n",
    "sub = 1-4.5\n",
    "print(sub)"
   ]
  },
  {
   "cell_type": "code",
   "execution_count": 8,
   "id": "82c0da3c-5b1f-4563-9694-f5d06e212196",
   "metadata": {},
   "outputs": [
    {
     "data": {
      "text/plain": [
       "1.333820449136241"
      ]
     },
     "execution_count": 8,
     "metadata": {},
     "output_type": "execute_result"
    }
   ],
   "source": [
    "#division\n",
    "4195835/3145727"
   ]
  },
  {
   "cell_type": "code",
   "execution_count": 11,
   "id": "079fe677-d415-41ec-848f-245181ad7fa4",
   "metadata": {},
   "outputs": [
    {
     "name": "stdout",
     "output_type": "stream",
     "text": [
      "80\n"
     ]
    }
   ],
   "source": [
    "#mutliple\n",
    "mult = 8*10\n",
    "print(mult)"
   ]
  },
  {
   "cell_type": "code",
   "execution_count": 16,
   "id": "1ad34185-2bc8-4637-98d6-ebb23862b215",
   "metadata": {},
   "outputs": [
    {
     "data": {
      "text/plain": [
       "1"
      ]
     },
     "execution_count": 16,
     "metadata": {},
     "output_type": "execute_result"
    }
   ],
   "source": [
    "#modulus; checking if there is a remander\n",
    "5%4"
   ]
  },
  {
   "cell_type": "code",
   "execution_count": 1,
   "id": "7ebfed07-c69f-4a97-8cbd-ef86191128c7",
   "metadata": {},
   "outputs": [
    {
     "data": {
      "text/plain": [
       "12"
      ]
     },
     "execution_count": 1,
     "metadata": {},
     "output_type": "execute_result"
    }
   ],
   "source": [
    "#PEMDAS\n",
    "8+5*7%2*4"
   ]
  },
  {
   "cell_type": "code",
   "execution_count": 4,
   "id": "38499cb3-c5de-4393-bc13-fc8ee50d4e77",
   "metadata": {},
   "outputs": [
    {
     "name": "stdout",
     "output_type": "stream",
     "text": [
      "3.14\n",
      "3.14\n"
     ]
    }
   ],
   "source": [
    "#Decimial places\n",
    "deimalplaces = round(3.14159, 2)\n",
    "print(deimalplaces)\n",
    "\n",
    "decimalplaces = \"{:.2f}\".format(3.14159)\n",
    "print(decimalplaces)"
   ]
  },
  {
   "cell_type": "code",
   "execution_count": 13,
   "id": "69264c55-05f4-4ed9-8d61-c2c30a6ef09b",
   "metadata": {},
   "outputs": [
    {
     "data": {
      "text/plain": [
       "-3"
      ]
     },
     "execution_count": 13,
     "metadata": {},
     "output_type": "execute_result"
    }
   ],
   "source": [
    "#Discrminant is the part under the sqrt of the quadratic equation: b^2 -4ac\n",
    "a=1\n",
    "b=1\n",
    "c=1\n",
    "\n",
    "b**2-4*a*c\n"
   ]
  },
  {
   "cell_type": "code",
   "execution_count": 16,
   "id": "cb91a57b-1831-468e-9a2b-19a79a7230a7",
   "metadata": {},
   "outputs": [
    {
     "name": "stdout",
     "output_type": "stream",
     "text": [
      "25\n"
     ]
    }
   ],
   "source": [
    "#Area of a Sqaure\n",
    "l=5\n",
    "w=5\n",
    "area = l*w\n",
    "print(area)"
   ]
  },
  {
   "cell_type": "code",
   "execution_count": 27,
   "id": "16857ce3-76cd-40eb-9ad6-65c5fce1c6d9",
   "metadata": {},
   "outputs": [
    {
     "name": "stdout",
     "output_type": "stream",
     "text": [
      "[-10]\n"
     ]
    }
   ],
   "source": [
    "n = [0-10]\n",
    "lists = (n"
   ]
  },
  {
   "cell_type": "code",
   "execution_count": null,
   "id": "d1a03295-a907-454f-975b-cff74acf2f25",
   "metadata": {},
   "outputs": [],
   "source": []
  }
 ],
 "metadata": {
  "kernelspec": {
   "display_name": "Python 3 (ipykernel)",
   "language": "python",
   "name": "python3"
  },
  "language_info": {
   "codemirror_mode": {
    "name": "ipython",
    "version": 3
   },
   "file_extension": ".py",
   "mimetype": "text/x-python",
   "name": "python",
   "nbconvert_exporter": "python",
   "pygments_lexer": "ipython3",
   "version": "3.10.12"
  }
 },
 "nbformat": 4,
 "nbformat_minor": 5
}
