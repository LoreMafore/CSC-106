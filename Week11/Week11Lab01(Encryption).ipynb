{
 "cells": [
  {
   "cell_type": "code",
   "execution_count": 17,
   "id": "2744fe1e",
   "metadata": {},
   "outputs": [
    {
     "name": "stdout",
     "output_type": "stream",
     "text": [
      "1 2 4 1\n"
     ]
    }
   ],
   "source": [
    "def pin():\n",
    "    a =0\n",
    "    b =1\n",
    "    \n",
    "    d = 2\n",
    "    e = 3\n",
    "    \n",
    "    f = 4\n",
    "    g = 0\n",
    "    \n",
    "    h = 1\n",
    "    i = 2\n",
    "    \n",
    "    j = 3\n",
    "    k = 4\n",
    "\n",
    "    l = 0\n",
    "    m = 1\n",
    "    n = 2\n",
    "    o = 3\n",
    "    p = 4\n",
    "\n",
    "    q = 0\n",
    "    r = 1\n",
    "    s = 2\n",
    "    t = 3\n",
    "    u = 4\n",
    "\n",
    "    v = 0\n",
    "    w = 1\n",
    "    x = 2\n",
    "    y = 3\n",
    "    z = 4\n",
    "\n",
    "    print(b,d,f,h)\n",
    "    \n",
    "pin()"
   ]
  },
  {
   "cell_type": "code",
   "execution_count": 22,
   "id": "bdd84ff5",
   "metadata": {},
   "outputs": [
    {
     "ename": "NameError",
     "evalue": "name 'M' is not defined",
     "output_type": "error",
     "traceback": [
      "\u001b[0;31m---------------------------------------------------------------------------\u001b[0m",
      "\u001b[0;31mNameError\u001b[0m                                 Traceback (most recent call last)",
      "\u001b[0;32m/tmp/ipykernel_3859/3040435417.py\u001b[0m in \u001b[0;36m<module>\u001b[0;34m\u001b[0m\n\u001b[0;32m----> 1\u001b[0;31m \u001b[0mC\u001b[0m \u001b[0;34m=\u001b[0m \u001b[0;34m(\u001b[0m\u001b[0mM\u001b[0m\u001b[0;34m^\u001b[0m\u001b[0me\u001b[0m\u001b[0;34m)\u001b[0m\u001b[0;34m\u001b[0m\u001b[0;34m\u001b[0m\u001b[0m\n\u001b[0m\u001b[1;32m      2\u001b[0m \u001b[0mM\u001b[0m \u001b[0;34m=\u001b[0m \u001b[0;34m(\u001b[0m\u001b[0mC\u001b[0m\u001b[0;34m^\u001b[0m\u001b[0md\u001b[0m\u001b[0;34m)\u001b[0m\u001b[0;34m\u001b[0m\u001b[0;34m\u001b[0m\u001b[0m\n",
      "\u001b[0;31mNameError\u001b[0m: name 'M' is not defined"
     ]
    }
   ],
   "source": [
    "C = (M^e)\n",
    "M = (C^d)"
   ]
  },
  {
   "cell_type": "code",
   "execution_count": 3,
   "id": "27880830",
   "metadata": {},
   "outputs": [
    {
     "name": "stdout",
     "output_type": "stream",
     "text": [
      "1801088541\n",
      "20.999999999999996\n"
     ]
    }
   ],
   "source": [
    "\n",
    "M = 21\n",
    "key = 7\n",
    "\n",
    "C = (M**key)\n",
    "\n",
    "M = C**(1/key)\n",
    "print(C)\n",
    "print(M)"
   ]
  },
  {
   "cell_type": "code",
   "execution_count": 1,
   "id": "30c22837",
   "metadata": {},
   "outputs": [
    {
     "name": "stdout",
     "output_type": "stream",
     "text": [
      "43\n",
      "21\n",
      "1.6870068780119612e+37\n",
      "43\n"
     ]
    }
   ],
   "source": [
    "# prime numbers are 41 59\n",
    "a = float(input())\n",
    "b = float(input())\n",
    "\n",
    "sum = a + b\n",
    "#our totent\n",
    "totent = (a-1)*(b-1)\n",
    "\n",
    "#our key\n",
    "e = 21\n",
    "\n",
    "#encryption\n",
    "d = (a**e)*totent\n",
    "\n",
    "print(d)\n",
    "\n",
    "#decryption\n",
    "ud = (d/totent)**(1/e)\n",
    "print(round(ud))"
   ]
  },
  {
   "cell_type": "code",
   "execution_count": null,
   "id": "71cdeeb2",
   "metadata": {},
   "outputs": [],
   "source": []
  }
 ],
 "metadata": {
  "kernelspec": {
   "display_name": "Python 3 (ipykernel)",
   "language": "python",
   "name": "python3"
  },
  "language_info": {
   "codemirror_mode": {
    "name": "ipython",
    "version": 3
   },
   "file_extension": ".py",
   "mimetype": "text/x-python",
   "name": "python",
   "nbconvert_exporter": "python",
   "pygments_lexer": "ipython3",
   "version": "3.10.12"
  }
 },
 "nbformat": 4,
 "nbformat_minor": 5
}
