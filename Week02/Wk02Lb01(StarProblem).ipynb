{
 "cells": [
  {
   "cell_type": "code",
   "execution_count": 1,
   "id": "c662b7d5-2195-455b-a0a4-ac084c215d95",
   "metadata": {},
   "outputs": [
    {
     "data": {
      "text/plain": [
       "'\\nName: Conrad Mercer\\nClass: CSC 106\\nHWK#: Week01Lab01\\nQn: 1\\nDate:\\n'"
      ]
     },
     "execution_count": 1,
     "metadata": {},
     "output_type": "execute_result"
    }
   ],
   "source": [
    "'''\n",
    "Name: Conrad Mercer\n",
    "Class: CSC 106\n",
    "HWK#: Week01Lab01\n",
    "Qn: 1\n",
    "Date:\n",
    "'''"
   ]
  },
  {
   "cell_type": "code",
   "execution_count": 2,
   "id": "3bab0401-6beb-451d-985f-b16da44c2bbd",
   "metadata": {},
   "outputs": [
    {
     "name": "stdout",
     "output_type": "stream",
     "text": [
      "\t\t\t* \n",
      "\t* \t\t\t\t* \n",
      "\n",
      "\n",
      "\t\t*\t\t*\n"
     ]
    }
   ],
   "source": [
    "print (\"\\t\\t\\t* \\n\\t* \\t\\t\\t\\t* \\n\\n\\n\\t\\t*\\t\\t*\")"
   ]
  },
  {
   "cell_type": "code",
   "execution_count": null,
   "id": "2633890a-0374-4340-9085-13eb107ef7d7",
   "metadata": {},
   "outputs": [],
   "source": []
  }
 ],
 "metadata": {
  "kernelspec": {
   "display_name": "Python 3 (ipykernel)",
   "language": "python",
   "name": "python3"
  },
  "language_info": {
   "codemirror_mode": {
    "name": "ipython",
    "version": 3
   },
   "file_extension": ".py",
   "mimetype": "text/x-python",
   "name": "python",
   "nbconvert_exporter": "python",
   "pygments_lexer": "ipython3",
   "version": "3.10.12"
  }
 },
 "nbformat": 4,
 "nbformat_minor": 5
}
