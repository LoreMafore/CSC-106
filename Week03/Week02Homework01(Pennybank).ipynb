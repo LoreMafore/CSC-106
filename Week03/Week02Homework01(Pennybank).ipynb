{
 "cells": [
  {
   "cell_type": "code",
   "execution_count": 2,
   "id": "f4009118",
   "metadata": {},
   "outputs": [
    {
     "name": "stdout",
     "output_type": "stream",
     "text": [
      "31.17\n"
     ]
    }
   ],
   "source": [
    "'''\n",
    "A Python program is required that calculates the amount, in dollars, contained in a piggybank. \n",
    "The bank contains half dollars, quarters, dimes, nickels, and pennies.\n",
    "'''\n",
    "\n",
    "'''\n",
    "a. 1 Output is required \n",
    "b. 6 Inputs are required\n",
    "'''\n",
    "\n",
    "#c.values of the coins\n",
    "\n",
    "half_dollar = .50\n",
    "quarters = .25\n",
    "dimes = .10\n",
    "nickels = .05\n",
    "pennies = .01\n",
    "\n",
    "#d. calculating the amount money in the bank\n",
    "\n",
    "total = 10*half_dollar + 7*quarters + 240*dimes + 6*nickels + 12*pennies\n",
    "\n",
    "print(total)\n"
   ]
  },
  {
   "cell_type": "code",
   "execution_count": null,
   "id": "ec70f066",
   "metadata": {},
   "outputs": [],
   "source": []
  }
 ],
 "metadata": {
  "kernelspec": {
   "display_name": "Python 3 (ipykernel)",
   "language": "python",
   "name": "python3"
  },
  "language_info": {
   "codemirror_mode": {
    "name": "ipython",
    "version": 3
   },
   "file_extension": ".py",
   "mimetype": "text/x-python",
   "name": "python",
   "nbconvert_exporter": "python",
   "pygments_lexer": "ipython3",
   "version": "3.10.12"
  }
 },
 "nbformat": 4,
 "nbformat_minor": 5
}
