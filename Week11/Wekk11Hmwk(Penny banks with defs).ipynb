{
 "cells": [
  {
   "cell_type": "code",
   "execution_count": 2,
   "id": "45d55314",
   "metadata": {},
   "outputs": [
    {
     "name": "stdout",
     "output_type": "stream",
     "text": [
      "31.17\n"
     ]
    }
   ],
   "source": [
    "#First Question\n",
    "\n",
    "'''\n",
    "a. 1 output is required.\n",
    "b. 5 inouts are required.\n",
    "c.total = n*half_dollar + n_1*quarters + n_2*dimes + n_3*nickels + n_4*pennies\n",
    "'''\n",
    "#d.\n",
    "def bank():\n",
    "    half_dollar = .50\n",
    "    quarters = .25\n",
    "    dimes = .10\n",
    "    nickels = .05\n",
    "    pennies = .01\n",
    "    n = 10\n",
    "    n_1 = 7\n",
    "    n_2 = 240\n",
    "    n_3 = 6\n",
    "    n_4 = 12\n",
    "\n",
    "    total = n*half_dollar + n_1*quarters + n_2*dimes + n_3*nickels + n_4*pennies\n",
    "\n",
    "    print(total)\n",
    "    \n",
    "bank()"
   ]
  },
  {
   "cell_type": "code",
   "execution_count": 21,
   "id": "32e8d670",
   "metadata": {},
   "outputs": [
    {
     "data": {
      "text/plain": [
       "31.17"
      ]
     },
     "execution_count": 21,
     "metadata": {},
     "output_type": "execute_result"
    }
   ],
   "source": [
    "#Second Quetion\n",
    "'''\n",
    "a. 1 output is required.\n",
    "b. 10 inouts are required.\n",
    "c.total = n*half_dollar + n_1*quarters + n_2*dimes + n_3*nickels + n_4*pennies\n",
    "'''\n",
    "#d.\n",
    "#defining the lambda function\n",
    "def bank2(h,q,d,ni, p):\n",
    "    return lambda n,n_1,n_2,n_3,n_4 :n*h + n_1*q + n_2*d + n_3*ni + n_4*p\n",
    "\n",
    "#defining the money in the function\n",
    "f = bank2(.50,.25,.10,.05,.01)\n",
    "\n",
    "#using the amount of money in the function\n",
    "f(10,7,240,6,12)"
   ]
  }
 ],
 "metadata": {
  "kernelspec": {
   "display_name": "Python 3 (ipykernel)",
   "language": "python",
   "name": "python3"
  },
  "language_info": {
   "codemirror_mode": {
    "name": "ipython",
    "version": 3
   },
   "file_extension": ".py",
   "mimetype": "text/x-python",
   "name": "python",
   "nbconvert_exporter": "python",
   "pygments_lexer": "ipython3",
   "version": "3.10.12"
  }
 },
 "nbformat": 4,
 "nbformat_minor": 5
}
